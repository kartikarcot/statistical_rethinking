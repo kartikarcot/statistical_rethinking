{
 "cells": [
  {
   "cell_type": "code",
   "execution_count": 1,
   "id": "74c3708c-7910-416e-888f-539ad27a0773",
   "metadata": {},
   "outputs": [],
   "source": [
    "import numpyro\n",
    "import numpyro.distributions as dist\n",
    "import jax.numpy as jnp\n",
    "import jax\n",
    "import plotly.express as px\n",
    "import plotly.graph_objects as go\n",
    "import pandas as pd"
   ]
  },
  {
   "cell_type": "markdown",
   "id": "93f4971f-594a-47b7-835f-923609f5c6ff",
   "metadata": {},
   "source": [
    "# Problem-1\n",
    "Construct a linear regression of weight as predicted by height, using the\n",
    "adults (age 18 or greater) from the Howell1 dataset. The heights listed below\n",
    "were recorded in the !Kung census, but weights were not recorded for these\n",
    "individuals. Provide predicted weights and 89% compatibility intervals for\n",
    "each of these individuals. \n",
    "\n",
    "$$\n",
    "\\begin{array}{c|c|c|c}\n",
    "\\text { Individual } & \\text { height } & \\text { expected weight } & 89 \\% \\text { interval } \\\\\n",
    "\\hline 1 & 140 & & \\\\\n",
    "2 & 160 & \\\\\n",
    "3 & 175 & &\n",
    "\\end{array}\n",
    "$$"
   ]
  },
  {
   "cell_type": "code",
   "execution_count": 2,
   "id": "acf82891-4dad-4ebd-982d-a384a45626b4",
   "metadata": {},
   "outputs": [],
   "source": [
    "howell_df = pd.read_csv(\"../data/Howell1.csv\", sep=\";\")"
   ]
  },
  {
   "cell_type": "code",
   "execution_count": 3,
   "id": "32a3bb95-33d8-4464-8026-b5211c198f27",
   "metadata": {},
   "outputs": [
    {
     "data": {
      "text/html": [
       "<div>\n",
       "<style scoped>\n",
       "    .dataframe tbody tr th:only-of-type {\n",
       "        vertical-align: middle;\n",
       "    }\n",
       "\n",
       "    .dataframe tbody tr th {\n",
       "        vertical-align: top;\n",
       "    }\n",
       "\n",
       "    .dataframe thead th {\n",
       "        text-align: right;\n",
       "    }\n",
       "</style>\n",
       "<table border=\"1\" class=\"dataframe\">\n",
       "  <thead>\n",
       "    <tr style=\"text-align: right;\">\n",
       "      <th></th>\n",
       "      <th>height</th>\n",
       "      <th>weight</th>\n",
       "      <th>age</th>\n",
       "      <th>male</th>\n",
       "    </tr>\n",
       "  </thead>\n",
       "  <tbody>\n",
       "    <tr>\n",
       "      <th>0</th>\n",
       "      <td>151.765</td>\n",
       "      <td>47.825606</td>\n",
       "      <td>63.0</td>\n",
       "      <td>1</td>\n",
       "    </tr>\n",
       "    <tr>\n",
       "      <th>1</th>\n",
       "      <td>139.700</td>\n",
       "      <td>36.485807</td>\n",
       "      <td>63.0</td>\n",
       "      <td>0</td>\n",
       "    </tr>\n",
       "    <tr>\n",
       "      <th>2</th>\n",
       "      <td>136.525</td>\n",
       "      <td>31.864838</td>\n",
       "      <td>65.0</td>\n",
       "      <td>0</td>\n",
       "    </tr>\n",
       "    <tr>\n",
       "      <th>3</th>\n",
       "      <td>156.845</td>\n",
       "      <td>53.041914</td>\n",
       "      <td>41.0</td>\n",
       "      <td>1</td>\n",
       "    </tr>\n",
       "    <tr>\n",
       "      <th>4</th>\n",
       "      <td>145.415</td>\n",
       "      <td>41.276872</td>\n",
       "      <td>51.0</td>\n",
       "      <td>0</td>\n",
       "    </tr>\n",
       "  </tbody>\n",
       "</table>\n",
       "</div>"
      ],
      "text/plain": [
       "    height     weight   age  male\n",
       "0  151.765  47.825606  63.0     1\n",
       "1  139.700  36.485807  63.0     0\n",
       "2  136.525  31.864838  65.0     0\n",
       "3  156.845  53.041914  41.0     1\n",
       "4  145.415  41.276872  51.0     0"
      ]
     },
     "execution_count": 3,
     "metadata": {},
     "output_type": "execute_result"
    }
   ],
   "source": [
    "howell_df.head()"
   ]
  },
  {
   "cell_type": "code",
   "execution_count": 4,
   "id": "e315fc35-6bbb-47b7-9ec4-71888d3c66b9",
   "metadata": {},
   "outputs": [],
   "source": [
    "def linear_model(heights: jnp.ndarray, weights: jnp.ndarray = None):\n",
    "    '''\n",
    "    This function will take the heights and compute the predicted\n",
    "    weights\n",
    "    '''\n",
    "    m = numpyro.sample('slope', dist.Normal(0.7))\n",
    "    b = numpyro.sample('intercept', dist.Normal(0.7))\n",
    "    height_mu = jnp.mean(heights)\n",
    "    weight_sigma =numpyro.sample('sigma', dist.Normal(0.7))\n",
    "    weights_mu = b + m * (heights - height_mu)\n",
    "    weights_pred = numpyro.sample('weight_sampled', dist.Normal(weights_mu,weight_sigma), obs=weights)\n",
    "    return weights_pred\n"
   ]
  },
  {
   "cell_type": "code",
   "execution_count": 5,
   "id": "6a80fc51-209a-4ff7-b63c-8bdb0e5b0dc7",
   "metadata": {},
   "outputs": [
    {
     "data": {
      "image/svg+xml": [
       "<?xml version=\"1.0\" encoding=\"UTF-8\" standalone=\"no\"?>\n",
       "<!DOCTYPE svg PUBLIC \"-//W3C//DTD SVG 1.1//EN\"\n",
       " \"http://www.w3.org/Graphics/SVG/1.1/DTD/svg11.dtd\">\n",
       "<!-- Generated by graphviz version 6.0.1 (20220911.1526)\n",
       " -->\n",
       "<!-- Pages: 1 -->\n",
       "<svg width=\"251pt\" height=\"116pt\"\n",
       " viewBox=\"0.00 0.00 250.74 116.00\" xmlns=\"http://www.w3.org/2000/svg\" xmlns:xlink=\"http://www.w3.org/1999/xlink\">\n",
       "<g id=\"graph0\" class=\"graph\" transform=\"scale(1 1) rotate(0) translate(4 112)\">\n",
       "<polygon fill=\"white\" stroke=\"none\" points=\"-4,4 -4,-112 246.74,-112 246.74,4 -4,4\"/>\n",
       "<!-- slope -->\n",
       "<g id=\"node1\" class=\"node\">\n",
       "<title>slope</title>\n",
       "<ellipse fill=\"white\" stroke=\"black\" cx=\"29.25\" cy=\"-90\" rx=\"29.5\" ry=\"18\"/>\n",
       "<text text-anchor=\"middle\" x=\"29.25\" y=\"-86.3\" font-family=\"Times,serif\" font-size=\"14.00\">slope</text>\n",
       "</g>\n",
       "<!-- weight_sampled -->\n",
       "<g id=\"node4\" class=\"node\">\n",
       "<title>weight_sampled</title>\n",
       "<ellipse fill=\"white\" stroke=\"black\" cx=\"118.25\" cy=\"-18\" rx=\"68.79\" ry=\"18\"/>\n",
       "<text text-anchor=\"middle\" x=\"118.25\" y=\"-14.3\" font-family=\"Times,serif\" font-size=\"14.00\">weight_sampled</text>\n",
       "</g>\n",
       "<!-- slope&#45;&gt;weight_sampled -->\n",
       "<g id=\"edge1\" class=\"edge\">\n",
       "<title>slope&#45;&gt;weight_sampled</title>\n",
       "<path fill=\"none\" stroke=\"black\" d=\"M46.83,-75.17C59.03,-65.58 75.54,-52.59 89.62,-41.51\"/>\n",
       "<polygon fill=\"black\" stroke=\"black\" points=\"91.88,-44.19 97.58,-35.26 87.55,-38.69 91.88,-44.19\"/>\n",
       "</g>\n",
       "<!-- intercept -->\n",
       "<g id=\"node2\" class=\"node\">\n",
       "<title>intercept</title>\n",
       "<ellipse fill=\"white\" stroke=\"black\" cx=\"118.25\" cy=\"-90\" rx=\"41.69\" ry=\"18\"/>\n",
       "<text text-anchor=\"middle\" x=\"118.25\" y=\"-86.3\" font-family=\"Times,serif\" font-size=\"14.00\">intercept</text>\n",
       "</g>\n",
       "<!-- intercept&#45;&gt;weight_sampled -->\n",
       "<g id=\"edge2\" class=\"edge\">\n",
       "<title>intercept&#45;&gt;weight_sampled</title>\n",
       "<path fill=\"none\" stroke=\"black\" d=\"M118.25,-71.7C118.25,-63.98 118.25,-54.71 118.25,-46.11\"/>\n",
       "<polygon fill=\"black\" stroke=\"black\" points=\"121.75,-46.1 118.25,-36.1 114.75,-46.1 121.75,-46.1\"/>\n",
       "</g>\n",
       "<!-- sigma -->\n",
       "<g id=\"node3\" class=\"node\">\n",
       "<title>sigma</title>\n",
       "<ellipse fill=\"white\" stroke=\"black\" cx=\"210.25\" cy=\"-90\" rx=\"32.49\" ry=\"18\"/>\n",
       "<text text-anchor=\"middle\" x=\"210.25\" y=\"-86.3\" font-family=\"Times,serif\" font-size=\"14.00\">sigma</text>\n",
       "</g>\n",
       "<!-- sigma&#45;&gt;weight_sampled -->\n",
       "<g id=\"edge3\" class=\"edge\">\n",
       "<title>sigma&#45;&gt;weight_sampled</title>\n",
       "<path fill=\"none\" stroke=\"black\" d=\"M191.63,-74.83C179.08,-65.28 162.25,-52.48 147.87,-41.54\"/>\n",
       "<polygon fill=\"black\" stroke=\"black\" points=\"149.82,-38.62 139.74,-35.35 145.58,-44.19 149.82,-38.62\"/>\n",
       "</g>\n",
       "</g>\n",
       "</svg>\n"
      ],
      "text/plain": [
       "<graphviz.graphs.Digraph at 0x15a8564d0>"
      ]
     },
     "execution_count": 5,
     "metadata": {},
     "output_type": "execute_result"
    }
   ],
   "source": [
    "numpyro.render_model(linear_model, (), dict(heights=jnp.zeros(10)))"
   ]
  },
  {
   "cell_type": "code",
   "execution_count": 6,
   "id": "1ec05d52-c89f-4bfe-b3a7-82e157bef70a",
   "metadata": {},
   "outputs": [],
   "source": [
    "heights_data = jnp.array(howell_df['height'])\n",
    "weights_data = jnp.array(howell_df['weight'])"
   ]
  },
  {
   "cell_type": "code",
   "execution_count": 29,
   "id": "4e09067f-5893-4970-9688-d42a01a547bf",
   "metadata": {},
   "outputs": [
    {
     "name": "stderr",
     "output_type": "stream",
     "text": [
      "sample: 100%|████████████████████████████████████████████████████████████████████████████████████████████| 5500/5500 [00:02<00:00, 1850.36it/s, 3 steps of size 7.47e-01. acc. prob=0.91]\n"
     ]
    }
   ],
   "source": [
    "from numpyro.infer import MCMC, NUTS\n",
    "nuts_kernel = NUTS(linear_model)\n",
    "mcmc = MCMC(nuts_kernel, num_warmup=500, num_samples=5000)\n",
    "rng_key = jax.random.PRNGKey(0)\n",
    "mcmc.run(rng_key, heights_data, weights_data, extra_fields=('potential_energy',))"
   ]
  },
  {
   "cell_type": "code",
   "execution_count": 30,
   "id": "0a94fa9b-938e-4951-82a1-78f5d87ac977",
   "metadata": {},
   "outputs": [
    {
     "name": "stdout",
     "output_type": "stream",
     "text": [
      "\n",
      "                 mean       std    median      5.0%     95.0%     n_eff     r_hat\n",
      "  intercept     33.98      0.24     33.98     33.60     34.38   2949.70      1.00\n",
      "      sigma      5.16      0.17      5.16      4.91      5.45   2993.46      1.00\n",
      "      slope      0.50      0.01      0.50      0.49      0.51   4733.31      1.00\n",
      "\n",
      "Number of divergences: 0\n"
     ]
    }
   ],
   "source": [
    "mcmc.print_summary()"
   ]
  },
  {
   "cell_type": "code",
   "execution_count": 31,
   "id": "880f466d-b80e-4b86-b424-cd470233cf78",
   "metadata": {},
   "outputs": [],
   "source": [
    "samples = mcmc.get_samples()"
   ]
  },
  {
   "cell_type": "code",
   "execution_count": 32,
   "id": "5a9ea92e-e10b-4410-b7ce-03fcced5b151",
   "metadata": {},
   "outputs": [],
   "source": [
    "slope = float(jnp.mean(samples[\"slope\"]))\n",
    "sigma = float(jnp.mean(samples[\"sigma\"]))\n",
    "intercept = float(jnp.mean(samples[\"intercept\"]))"
   ]
  },
  {
   "cell_type": "code",
   "execution_count": 33,
   "id": "4f0d8e40-2537-4804-a4a1-ffec079558e3",
   "metadata": {},
   "outputs": [],
   "source": [
    "mean_height = float(jnp.mean(heights_data))"
   ]
  },
  {
   "cell_type": "code",
   "execution_count": 34,
   "id": "fb23600c-2a4e-49f9-a439-e56de896ef41",
   "metadata": {},
   "outputs": [],
   "source": [
    "heights = jnp.array([140, 160, 175])\n",
    "predicted_weights_mu = intercept + slope * (heights - mean_height)"
   ]
  },
  {
   "cell_type": "code",
   "execution_count": 35,
   "id": "cf0a5245-8cc0-451e-ba5e-389001f26a57",
   "metadata": {},
   "outputs": [
    {
     "data": {
      "text/plain": [
       "DeviceArray([34.847324, 44.88054 , 52.40545 ], dtype=float32, weak_type=True)"
      ]
     },
     "execution_count": 35,
     "metadata": {},
     "output_type": "execute_result"
    }
   ],
   "source": [
    "predicted_weights_mu"
   ]
  },
  {
   "cell_type": "markdown",
   "id": "482552b2-8ef4-45a1-9249-a3201f053675",
   "metadata": {},
   "source": [
    "# Problem-2\n",
    "\n",
    "From the Howell1 dataset, consider only the people younger than 13 years old. Estimate the causal association between age and weight. Assume that age influences weight through two paths. First, age influences height, and height influences weight. Second, age directly influences weight through agerelated changes in muscle growth and body proportions.\n",
    "\n",
    "Use a linear regression to estimate the total (not just direct) causal effect of each year of growth on weight. Be sure to carefully consider the priors. Try using prior predictive simulation to assess what they imply."
   ]
  },
  {
   "cell_type": "code",
   "execution_count": 36,
   "id": "d5e3c98e-96cf-4cc1-bb2c-7d56a3677a0c",
   "metadata": {},
   "outputs": [],
   "source": [
    "# select data for children aged less than 13\n",
    "howell_df_u13 = howell_df[howell_df[\"age\"] < 13]"
   ]
  },
  {
   "cell_type": "code",
   "execution_count": 57,
   "id": "6b92e0b3-c450-49ad-90de-a5102500577e",
   "metadata": {},
   "outputs": [],
   "source": [
    "# Setting up a model based on a dag which would look like:\n",
    "# age -> height\n",
    "# height -> weight\n",
    "# age -> weight\n",
    "def linear_model_2(ages: jnp.ndarray, weights: jnp.ndarray = None):\n",
    "    '''\n",
    "    This function will take the ages and compute the predicted\n",
    "    weights\n",
    "    '''\n",
    "    m = numpyro.sample('slope', dist.Normal(0.7))\n",
    "    b = numpyro.sample('intercept', dist.Normal(0.7))\n",
    "    weight_sigma =numpyro.sample('sigma', dist.Normal(0.7))\n",
    "    weights_mu = b + m * (ages)\n",
    "    weights_pred = numpyro.sample('weight_sampled', dist.Normal(weights_mu,weight_sigma), obs=weights)\n",
    "    return weights_pred"
   ]
  },
  {
   "cell_type": "code",
   "execution_count": 77,
   "id": "92748498-3632-4401-b6bc-956452888062",
   "metadata": {},
   "outputs": [
    {
     "data": {
      "image/svg+xml": [
       "<?xml version=\"1.0\" encoding=\"UTF-8\" standalone=\"no\"?>\n",
       "<!DOCTYPE svg PUBLIC \"-//W3C//DTD SVG 1.1//EN\"\n",
       " \"http://www.w3.org/Graphics/SVG/1.1/DTD/svg11.dtd\">\n",
       "<!-- Generated by graphviz version 6.0.1 (20220911.1526)\n",
       " -->\n",
       "<!-- Pages: 1 -->\n",
       "<svg width=\"251pt\" height=\"116pt\"\n",
       " viewBox=\"0.00 0.00 250.74 116.00\" xmlns=\"http://www.w3.org/2000/svg\" xmlns:xlink=\"http://www.w3.org/1999/xlink\">\n",
       "<g id=\"graph0\" class=\"graph\" transform=\"scale(1 1) rotate(0) translate(4 112)\">\n",
       "<polygon fill=\"white\" stroke=\"none\" points=\"-4,4 -4,-112 246.74,-112 246.74,4 -4,4\"/>\n",
       "<!-- slope -->\n",
       "<g id=\"node1\" class=\"node\">\n",
       "<title>slope</title>\n",
       "<ellipse fill=\"white\" stroke=\"black\" cx=\"29.25\" cy=\"-90\" rx=\"29.5\" ry=\"18\"/>\n",
       "<text text-anchor=\"middle\" x=\"29.25\" y=\"-86.3\" font-family=\"Times,serif\" font-size=\"14.00\">slope</text>\n",
       "</g>\n",
       "<!-- weight_sampled -->\n",
       "<g id=\"node4\" class=\"node\">\n",
       "<title>weight_sampled</title>\n",
       "<ellipse fill=\"white\" stroke=\"black\" cx=\"118.25\" cy=\"-18\" rx=\"68.79\" ry=\"18\"/>\n",
       "<text text-anchor=\"middle\" x=\"118.25\" y=\"-14.3\" font-family=\"Times,serif\" font-size=\"14.00\">weight_sampled</text>\n",
       "</g>\n",
       "<!-- slope&#45;&gt;weight_sampled -->\n",
       "<g id=\"edge1\" class=\"edge\">\n",
       "<title>slope&#45;&gt;weight_sampled</title>\n",
       "<path fill=\"none\" stroke=\"black\" d=\"M46.83,-75.17C59.03,-65.58 75.54,-52.59 89.62,-41.51\"/>\n",
       "<polygon fill=\"black\" stroke=\"black\" points=\"91.88,-44.19 97.58,-35.26 87.55,-38.69 91.88,-44.19\"/>\n",
       "</g>\n",
       "<!-- intercept -->\n",
       "<g id=\"node2\" class=\"node\">\n",
       "<title>intercept</title>\n",
       "<ellipse fill=\"white\" stroke=\"black\" cx=\"118.25\" cy=\"-90\" rx=\"41.69\" ry=\"18\"/>\n",
       "<text text-anchor=\"middle\" x=\"118.25\" y=\"-86.3\" font-family=\"Times,serif\" font-size=\"14.00\">intercept</text>\n",
       "</g>\n",
       "<!-- intercept&#45;&gt;weight_sampled -->\n",
       "<g id=\"edge2\" class=\"edge\">\n",
       "<title>intercept&#45;&gt;weight_sampled</title>\n",
       "<path fill=\"none\" stroke=\"black\" d=\"M118.25,-71.7C118.25,-63.98 118.25,-54.71 118.25,-46.11\"/>\n",
       "<polygon fill=\"black\" stroke=\"black\" points=\"121.75,-46.1 118.25,-36.1 114.75,-46.1 121.75,-46.1\"/>\n",
       "</g>\n",
       "<!-- sigma -->\n",
       "<g id=\"node3\" class=\"node\">\n",
       "<title>sigma</title>\n",
       "<ellipse fill=\"white\" stroke=\"black\" cx=\"210.25\" cy=\"-90\" rx=\"32.49\" ry=\"18\"/>\n",
       "<text text-anchor=\"middle\" x=\"210.25\" y=\"-86.3\" font-family=\"Times,serif\" font-size=\"14.00\">sigma</text>\n",
       "</g>\n",
       "<!-- sigma&#45;&gt;weight_sampled -->\n",
       "<g id=\"edge3\" class=\"edge\">\n",
       "<title>sigma&#45;&gt;weight_sampled</title>\n",
       "<path fill=\"none\" stroke=\"black\" d=\"M191.63,-74.83C179.08,-65.28 162.25,-52.48 147.87,-41.54\"/>\n",
       "<polygon fill=\"black\" stroke=\"black\" points=\"149.82,-38.62 139.74,-35.35 145.58,-44.19 149.82,-38.62\"/>\n",
       "</g>\n",
       "</g>\n",
       "</svg>\n"
      ],
      "text/plain": [
       "<graphviz.graphs.Digraph at 0x28b9e0eb0>"
      ]
     },
     "execution_count": 77,
     "metadata": {},
     "output_type": "execute_result"
    }
   ],
   "source": [
    "numpyro.render_model(linear_model_2, (), dict(ages=jnp.zeros(10)))"
   ]
  },
  {
   "cell_type": "code",
   "execution_count": 78,
   "id": "adb3b7ef-304f-44f1-9429-68dad515e162",
   "metadata": {},
   "outputs": [],
   "source": [
    "weights_data = jnp.array(howell_df_u13['weight'])\n",
    "ages_data = jnp.array(howell_df_u13['age'])"
   ]
  },
  {
   "cell_type": "code",
   "execution_count": 79,
   "id": "4d405301-e36a-4729-a383-c10b75352dee",
   "metadata": {},
   "outputs": [
    {
     "name": "stderr",
     "output_type": "stream",
     "text": [
      "sample: 100%|███████████████████████████████████████████████████████████████| 5500/5500 [00:03<00:00, 1709.79it/s, 3 steps of size 4.62e-01. acc. prob=0.91]\n"
     ]
    }
   ],
   "source": [
    "from numpyro.infer import MCMC, NUTS\n",
    "nuts_kernel = NUTS(linear_model_2)\n",
    "mcmc = MCMC(nuts_kernel, num_warmup=500, num_samples=5000)\n",
    "rng_key = jax.random.PRNGKey(0)\n",
    "mcmc.run(rng_key, ages_data, weights_data, extra_fields=('potential_energy',))"
   ]
  },
  {
   "cell_type": "code",
   "execution_count": 80,
   "id": "22f00a58-4490-47fc-b539-70b50d636550",
   "metadata": {},
   "outputs": [
    {
     "name": "stdout",
     "output_type": "stream",
     "text": [
      "\n",
      "                 mean       std    median      5.0%     95.0%     n_eff     r_hat\n",
      "  intercept      6.64      0.34      6.64      6.09      7.20   2351.83      1.00\n",
      "      sigma      2.56      0.16      2.55      2.31      2.82   2508.39      1.00\n",
      "      slope      1.44      0.05      1.44      1.36      1.53   2374.19      1.00\n",
      "\n",
      "Number of divergences: 0\n"
     ]
    }
   ],
   "source": [
    "mcmc.print_summary()"
   ]
  },
  {
   "cell_type": "markdown",
   "id": "70baffd3-e1f1-4062-9919-e9932fd76482",
   "metadata": {},
   "source": [
    "The rate at which weight will change by age will most likely be in the range of (1.35 to 1.53)%"
   ]
  },
  {
   "cell_type": "code",
   "execution_count": 82,
   "id": "ab0db412-4e83-4003-a767-c2dc44165fdb",
   "metadata": {},
   "outputs": [
    {
     "data": {
      "text/html": [
       "<div>\n",
       "<style scoped>\n",
       "    .dataframe tbody tr th:only-of-type {\n",
       "        vertical-align: middle;\n",
       "    }\n",
       "\n",
       "    .dataframe tbody tr th {\n",
       "        vertical-align: top;\n",
       "    }\n",
       "\n",
       "    .dataframe thead th {\n",
       "        text-align: right;\n",
       "    }\n",
       "</style>\n",
       "<table border=\"1\" class=\"dataframe\">\n",
       "  <thead>\n",
       "    <tr style=\"text-align: right;\">\n",
       "      <th></th>\n",
       "      <th>height</th>\n",
       "      <th>weight</th>\n",
       "      <th>age</th>\n",
       "      <th>male</th>\n",
       "    </tr>\n",
       "  </thead>\n",
       "  <tbody>\n",
       "    <tr>\n",
       "      <th>count</th>\n",
       "      <td>146.000000</td>\n",
       "      <td>146.000000</td>\n",
       "      <td>146.000000</td>\n",
       "      <td>146.000000</td>\n",
       "    </tr>\n",
       "    <tr>\n",
       "      <th>mean</th>\n",
       "      <td>98.810729</td>\n",
       "      <td>14.693328</td>\n",
       "      <td>5.401370</td>\n",
       "      <td>0.486301</td>\n",
       "    </tr>\n",
       "    <tr>\n",
       "      <th>std</th>\n",
       "      <td>21.489527</td>\n",
       "      <td>5.722741</td>\n",
       "      <td>3.824657</td>\n",
       "      <td>0.501533</td>\n",
       "    </tr>\n",
       "    <tr>\n",
       "      <th>min</th>\n",
       "      <td>53.975000</td>\n",
       "      <td>4.252425</td>\n",
       "      <td>0.000000</td>\n",
       "      <td>0.000000</td>\n",
       "    </tr>\n",
       "    <tr>\n",
       "      <th>25%</th>\n",
       "      <td>84.455000</td>\n",
       "      <td>10.829509</td>\n",
       "      <td>2.000000</td>\n",
       "      <td>0.000000</td>\n",
       "    </tr>\n",
       "    <tr>\n",
       "      <th>50%</th>\n",
       "      <td>98.844100</td>\n",
       "      <td>13.792032</td>\n",
       "      <td>5.000000</td>\n",
       "      <td>0.000000</td>\n",
       "    </tr>\n",
       "    <tr>\n",
       "      <th>75%</th>\n",
       "      <td>114.300000</td>\n",
       "      <td>18.335039</td>\n",
       "      <td>8.000000</td>\n",
       "      <td>1.000000</td>\n",
       "    </tr>\n",
       "    <tr>\n",
       "      <th>max</th>\n",
       "      <td>147.955000</td>\n",
       "      <td>32.488527</td>\n",
       "      <td>12.000000</td>\n",
       "      <td>1.000000</td>\n",
       "    </tr>\n",
       "  </tbody>\n",
       "</table>\n",
       "</div>"
      ],
      "text/plain": [
       "           height      weight         age        male\n",
       "count  146.000000  146.000000  146.000000  146.000000\n",
       "mean    98.810729   14.693328    5.401370    0.486301\n",
       "std     21.489527    5.722741    3.824657    0.501533\n",
       "min     53.975000    4.252425    0.000000    0.000000\n",
       "25%     84.455000   10.829509    2.000000    0.000000\n",
       "50%     98.844100   13.792032    5.000000    0.000000\n",
       "75%    114.300000   18.335039    8.000000    1.000000\n",
       "max    147.955000   32.488527   12.000000    1.000000"
      ]
     },
     "execution_count": 82,
     "metadata": {},
     "output_type": "execute_result"
    }
   ],
   "source": [
    "# lets do some fancy plotting and move on\n",
    "howell_df_u13.describe()"
   ]
  },
  {
   "cell_type": "code",
   "execution_count": 85,
   "id": "a2de33b7-2027-4166-887c-ec6d5edb37d2",
   "metadata": {},
   "outputs": [],
   "source": [
    "latent_var_samples = mcmc.get_samples()"
   ]
  },
  {
   "cell_type": "code",
   "execution_count": 127,
   "id": "c20731bf-e08e-41f7-92e4-8c325458f40e",
   "metadata": {},
   "outputs": [],
   "source": [
    "ages = [i for i in range(1,12)]\n",
    "weights_mus = [age * latent_var_samples[\"slope\"] + latent_var_samples[\"intercept\"] for age in ages]"
   ]
  },
  {
   "cell_type": "code",
   "execution_count": 130,
   "id": "1eeee734-7b73-4b16-8eeb-ac1fe1ab6bbe",
   "metadata": {},
   "outputs": [],
   "source": [
    "weights_mu = [age * jnp.mean(latent_var_samples[\"slope\"]) + jnp.mean(latent_var_samples[\"intercept\"]) for age in ages]\n",
    "weights_mu_hdpi = jnp.array([numpyro.diagnostics.hpdi(weight_mu_samples, 0.89) for weight_mu_samples in weights_mus])"
   ]
  },
  {
   "cell_type": "code",
   "execution_count": 132,
   "id": "c9633d2d-14a1-49ea-8c34-b300559a8e4f",
   "metadata": {},
   "outputs": [
    {
     "data": {
      "application/vnd.plotly.v1+json": {
       "config": {
        "plotlyServerURL": "https://plot.ly"
       },
       "data": [
        {
         "mode": "lines",
         "type": "scatter",
         "x": [
          1,
          2,
          3,
          4,
          5,
          6,
          7,
          8,
          9,
          10,
          11
         ],
         "y": [
          8.079219818115234,
          9.520625114440918,
          10.962030410766602,
          12.403435707092285,
          13.844841003417969,
          15.286246299743652,
          16.727651596069336,
          18.169055938720703,
          19.610462188720703,
          21.051868438720703,
          22.49327278137207
         ]
        },
        {
         "mode": "lines",
         "type": "scatter",
         "x": [
          1,
          2,
          3,
          4,
          5,
          6,
          7,
          8,
          9,
          10,
          11
         ],
         "y": [
          7.612719535827637,
          9.097190856933594,
          10.583568572998047,
          12.067195892333984,
          13.518855094909668,
          14.931619644165039,
          16.372480392456055,
          17.75788688659668,
          19.170774459838867,
          20.543853759765625,
          21.92481231689453
         ]
        },
        {
         "fill": "tonexty",
         "mode": "lines",
         "type": "scatter",
         "x": [
          1,
          2,
          3,
          4,
          5,
          6,
          7,
          8,
          9,
          10,
          11
         ],
         "y": [
          8.567317008972168,
          9.935897827148438,
          11.333797454833984,
          12.744766235351562,
          14.170787811279297,
          15.60185432434082,
          17.094369888305664,
          18.56191062927246,
          20.079965591430664,
          21.577659606933594,
          23.098466873168945
         ]
        },
        {
         "mode": "markers",
         "type": "scatter",
         "x": [
          12,
          8,
          6.5,
          7,
          11,
          8,
          12,
          5,
          9,
          5,
          12,
          0.6000000238418579,
          12,
          6,
          9,
          5,
          12,
          11,
          6,
          12,
          9,
          7.599999904632568,
          1,
          5,
          8,
          6,
          3,
          12,
          8,
          5,
          12,
          7,
          3,
          11,
          6,
          4,
          9,
          7,
          6,
          7,
          4,
          4,
          6,
          5,
          9,
          8,
          11,
          10,
          11,
          8,
          5,
          5,
          12,
          8,
          5,
          5,
          8.899999618530273,
          3,
          1,
          1,
          3,
          6,
          5,
          5,
          1,
          2,
          2,
          1,
          12,
          2,
          9,
          6,
          7,
          5,
          6,
          1,
          1,
          2,
          1,
          3,
          1,
          1,
          1,
          3,
          3,
          1,
          1,
          12,
          1,
          1,
          3,
          1,
          3,
          3,
          8,
          3,
          12,
          7,
          4,
          1,
          1,
          8,
          0,
          0,
          0,
          11,
          2,
          11,
          8,
          5,
          1,
          6,
          1,
          0,
          0,
          12,
          0,
          0,
          0,
          7,
          3,
          10,
          3,
          4,
          2,
          10,
          3,
          6,
          11,
          3,
          8,
          12,
          3,
          4,
          0,
          0,
          5,
          8,
          3,
          12,
          5,
          6,
          7,
          1,
          1,
          0
         ],
         "y": [
          19.61785316467285,
          13.947954177856445,
          10.489315032958984,
          15.989117622375488,
          17.860185623168945,
          20.411640167236328,
          23.359987258911133,
          13.267565727233887,
          15.422127723693848,
          12.757274627685547,
          29.596878051757812,
          12.927371978759766,
          27.584062576293945,
          17.46329116821289,
          18.824068069458008,
          17.888534545898438,
          27.44231605529785,
          17.123098373413086,
          16.499408721923828,
          18.257078170776367,
          15.081933975219727,
          11.481547355651855,
          9.752227783203125,
          13.097469329833984,
          19.39105796813965,
          15.081933975219727,
          11.708343505859375,
          21.99921226501465,
          19.78795051574707,
          16.78290367126465,
          21.17707633972168,
          18.899999618530273,
          13.267565727233887,
          22.367755889892578,
          12.757274627685547,
          13.012420654296875,
          24.408920288085938,
          21.517271041870117,
          13.125818252563477,
          18.342126846313477,
          13.749507904052734,
          12.530479431152344,
          17.576690673828125,
          14.401545524597168,
          19.05086326599121,
          20.80853271484375,
          17.661739349365234,
          20.496688842773438,
          20.89358139038086,
          15.989117622375488,
          14.288147926330566,
          15.223681449890137,
          21.488920211791992,
          16.669506072998047,
          12.076887130737305,
          15.337079048156738,
          17.83183479309082,
          11.453198432922363,
          11.765042304992676,
          5.896696090698242,
          12.105236053466797,
          18.313777923583984,
          11.368149757385254,
          16.2442626953125,
          6.803880214691162,
          11.878440856933594,
          14.968536376953125,
          9.865626335144043,
          28.859790802001953,
          12.785624504089355,
          20.581737518310547,
          15.875720024108887,
          17.06639862060547,
          13.182517051696777,
          12.927371978759766,
          5.669899940490723,
          11.509897232055664,
          11.708343505859375,
          7.540966987609863,
          12.700575828552246,
          7.200772762298584,
          12.360382080078125,
          7.796112537384033,
          12.558828353881836,
          12.700575828552246,
          7.370870113372803,
          9.213587760925293,
          20.014747619628906,
          8.504850387573242,
          8.306403160095215,
          11.623294830322266,
          7.966209411621094,
          10.801159858703613,
          14.004652976989746,
          18.143680572509766,
          10.914557456970215,
          27.15882110595703,
          19.05086326599121,
          13.834555625915527,
          9.213587760925293,
          7.569316387176514,
          19.41940689086914,
          7.314170837402344,
          7.824461936950684,
          8.022908210754395,
          22.792997360229492,
          9.383684158325195,
          28.292800903320312,
          20.35494041442871,
          13.295915603637695,
          6.662132263183594,
          16.272613525390625,
          8.504850387573242,
          8.136306762695312,
          7.200772762298584,
          32.488525390625,
          7.257472038269043,
          4.847764492034912,
          6.236889839172363,
          16.89630126953125,
          8.221355438232422,
          20.184843063354492,
          12.757274627685547,
          11.623294830322266,
          9.156888961791992,
          21.205425262451172,
          11.594945907592773,
          17.690088272094727,
          21.54561996459961,
          11.424848556518555,
          15.478827476501465,
          19.277660369873047,
          11.113003730773926,
          13.494361877441406,
          4.252425193786621,
          5.159608840942383,
          14.316497802734375,
          23.21824073791504,
          10.659412384033203,
          22.59455108642578,
          14.344846725463867,
          10.659412384033203,
          17.519990921020508,
          7.229122638702393,
          8.022908210754395,
          8.051258087158203
         ]
        }
       ],
       "layout": {
        "autosize": true,
        "template": {
         "data": {
          "bar": [
           {
            "error_x": {
             "color": "#2a3f5f"
            },
            "error_y": {
             "color": "#2a3f5f"
            },
            "marker": {
             "line": {
              "color": "#E5ECF6",
              "width": 0.5
             },
             "pattern": {
              "fillmode": "overlay",
              "size": 10,
              "solidity": 0.2
             }
            },
            "type": "bar"
           }
          ],
          "barpolar": [
           {
            "marker": {
             "line": {
              "color": "#E5ECF6",
              "width": 0.5
             },
             "pattern": {
              "fillmode": "overlay",
              "size": 10,
              "solidity": 0.2
             }
            },
            "type": "barpolar"
           }
          ],
          "carpet": [
           {
            "aaxis": {
             "endlinecolor": "#2a3f5f",
             "gridcolor": "white",
             "linecolor": "white",
             "minorgridcolor": "white",
             "startlinecolor": "#2a3f5f"
            },
            "baxis": {
             "endlinecolor": "#2a3f5f",
             "gridcolor": "white",
             "linecolor": "white",
             "minorgridcolor": "white",
             "startlinecolor": "#2a3f5f"
            },
            "type": "carpet"
           }
          ],
          "choropleth": [
           {
            "colorbar": {
             "outlinewidth": 0,
             "ticks": ""
            },
            "type": "choropleth"
           }
          ],
          "contour": [
           {
            "colorbar": {
             "outlinewidth": 0,
             "ticks": ""
            },
            "colorscale": [
             [
              0,
              "#0d0887"
             ],
             [
              0.1111111111111111,
              "#46039f"
             ],
             [
              0.2222222222222222,
              "#7201a8"
             ],
             [
              0.3333333333333333,
              "#9c179e"
             ],
             [
              0.4444444444444444,
              "#bd3786"
             ],
             [
              0.5555555555555556,
              "#d8576b"
             ],
             [
              0.6666666666666666,
              "#ed7953"
             ],
             [
              0.7777777777777778,
              "#fb9f3a"
             ],
             [
              0.8888888888888888,
              "#fdca26"
             ],
             [
              1,
              "#f0f921"
             ]
            ],
            "type": "contour"
           }
          ],
          "contourcarpet": [
           {
            "colorbar": {
             "outlinewidth": 0,
             "ticks": ""
            },
            "type": "contourcarpet"
           }
          ],
          "heatmap": [
           {
            "colorbar": {
             "outlinewidth": 0,
             "ticks": ""
            },
            "colorscale": [
             [
              0,
              "#0d0887"
             ],
             [
              0.1111111111111111,
              "#46039f"
             ],
             [
              0.2222222222222222,
              "#7201a8"
             ],
             [
              0.3333333333333333,
              "#9c179e"
             ],
             [
              0.4444444444444444,
              "#bd3786"
             ],
             [
              0.5555555555555556,
              "#d8576b"
             ],
             [
              0.6666666666666666,
              "#ed7953"
             ],
             [
              0.7777777777777778,
              "#fb9f3a"
             ],
             [
              0.8888888888888888,
              "#fdca26"
             ],
             [
              1,
              "#f0f921"
             ]
            ],
            "type": "heatmap"
           }
          ],
          "heatmapgl": [
           {
            "colorbar": {
             "outlinewidth": 0,
             "ticks": ""
            },
            "colorscale": [
             [
              0,
              "#0d0887"
             ],
             [
              0.1111111111111111,
              "#46039f"
             ],
             [
              0.2222222222222222,
              "#7201a8"
             ],
             [
              0.3333333333333333,
              "#9c179e"
             ],
             [
              0.4444444444444444,
              "#bd3786"
             ],
             [
              0.5555555555555556,
              "#d8576b"
             ],
             [
              0.6666666666666666,
              "#ed7953"
             ],
             [
              0.7777777777777778,
              "#fb9f3a"
             ],
             [
              0.8888888888888888,
              "#fdca26"
             ],
             [
              1,
              "#f0f921"
             ]
            ],
            "type": "heatmapgl"
           }
          ],
          "histogram": [
           {
            "marker": {
             "pattern": {
              "fillmode": "overlay",
              "size": 10,
              "solidity": 0.2
             }
            },
            "type": "histogram"
           }
          ],
          "histogram2d": [
           {
            "colorbar": {
             "outlinewidth": 0,
             "ticks": ""
            },
            "colorscale": [
             [
              0,
              "#0d0887"
             ],
             [
              0.1111111111111111,
              "#46039f"
             ],
             [
              0.2222222222222222,
              "#7201a8"
             ],
             [
              0.3333333333333333,
              "#9c179e"
             ],
             [
              0.4444444444444444,
              "#bd3786"
             ],
             [
              0.5555555555555556,
              "#d8576b"
             ],
             [
              0.6666666666666666,
              "#ed7953"
             ],
             [
              0.7777777777777778,
              "#fb9f3a"
             ],
             [
              0.8888888888888888,
              "#fdca26"
             ],
             [
              1,
              "#f0f921"
             ]
            ],
            "type": "histogram2d"
           }
          ],
          "histogram2dcontour": [
           {
            "colorbar": {
             "outlinewidth": 0,
             "ticks": ""
            },
            "colorscale": [
             [
              0,
              "#0d0887"
             ],
             [
              0.1111111111111111,
              "#46039f"
             ],
             [
              0.2222222222222222,
              "#7201a8"
             ],
             [
              0.3333333333333333,
              "#9c179e"
             ],
             [
              0.4444444444444444,
              "#bd3786"
             ],
             [
              0.5555555555555556,
              "#d8576b"
             ],
             [
              0.6666666666666666,
              "#ed7953"
             ],
             [
              0.7777777777777778,
              "#fb9f3a"
             ],
             [
              0.8888888888888888,
              "#fdca26"
             ],
             [
              1,
              "#f0f921"
             ]
            ],
            "type": "histogram2dcontour"
           }
          ],
          "mesh3d": [
           {
            "colorbar": {
             "outlinewidth": 0,
             "ticks": ""
            },
            "type": "mesh3d"
           }
          ],
          "parcoords": [
           {
            "line": {
             "colorbar": {
              "outlinewidth": 0,
              "ticks": ""
             }
            },
            "type": "parcoords"
           }
          ],
          "pie": [
           {
            "automargin": true,
            "type": "pie"
           }
          ],
          "scatter": [
           {
            "fillpattern": {
             "fillmode": "overlay",
             "size": 10,
             "solidity": 0.2
            },
            "type": "scatter"
           }
          ],
          "scatter3d": [
           {
            "line": {
             "colorbar": {
              "outlinewidth": 0,
              "ticks": ""
             }
            },
            "marker": {
             "colorbar": {
              "outlinewidth": 0,
              "ticks": ""
             }
            },
            "type": "scatter3d"
           }
          ],
          "scattercarpet": [
           {
            "marker": {
             "colorbar": {
              "outlinewidth": 0,
              "ticks": ""
             }
            },
            "type": "scattercarpet"
           }
          ],
          "scattergeo": [
           {
            "marker": {
             "colorbar": {
              "outlinewidth": 0,
              "ticks": ""
             }
            },
            "type": "scattergeo"
           }
          ],
          "scattergl": [
           {
            "marker": {
             "colorbar": {
              "outlinewidth": 0,
              "ticks": ""
             }
            },
            "type": "scattergl"
           }
          ],
          "scattermapbox": [
           {
            "marker": {
             "colorbar": {
              "outlinewidth": 0,
              "ticks": ""
             }
            },
            "type": "scattermapbox"
           }
          ],
          "scatterpolar": [
           {
            "marker": {
             "colorbar": {
              "outlinewidth": 0,
              "ticks": ""
             }
            },
            "type": "scatterpolar"
           }
          ],
          "scatterpolargl": [
           {
            "marker": {
             "colorbar": {
              "outlinewidth": 0,
              "ticks": ""
             }
            },
            "type": "scatterpolargl"
           }
          ],
          "scatterternary": [
           {
            "marker": {
             "colorbar": {
              "outlinewidth": 0,
              "ticks": ""
             }
            },
            "type": "scatterternary"
           }
          ],
          "surface": [
           {
            "colorbar": {
             "outlinewidth": 0,
             "ticks": ""
            },
            "colorscale": [
             [
              0,
              "#0d0887"
             ],
             [
              0.1111111111111111,
              "#46039f"
             ],
             [
              0.2222222222222222,
              "#7201a8"
             ],
             [
              0.3333333333333333,
              "#9c179e"
             ],
             [
              0.4444444444444444,
              "#bd3786"
             ],
             [
              0.5555555555555556,
              "#d8576b"
             ],
             [
              0.6666666666666666,
              "#ed7953"
             ],
             [
              0.7777777777777778,
              "#fb9f3a"
             ],
             [
              0.8888888888888888,
              "#fdca26"
             ],
             [
              1,
              "#f0f921"
             ]
            ],
            "type": "surface"
           }
          ],
          "table": [
           {
            "cells": {
             "fill": {
              "color": "#EBF0F8"
             },
             "line": {
              "color": "white"
             }
            },
            "header": {
             "fill": {
              "color": "#C8D4E3"
             },
             "line": {
              "color": "white"
             }
            },
            "type": "table"
           }
          ]
         },
         "layout": {
          "annotationdefaults": {
           "arrowcolor": "#2a3f5f",
           "arrowhead": 0,
           "arrowwidth": 1
          },
          "autotypenumbers": "strict",
          "coloraxis": {
           "colorbar": {
            "outlinewidth": 0,
            "ticks": ""
           }
          },
          "colorscale": {
           "diverging": [
            [
             0,
             "#8e0152"
            ],
            [
             0.1,
             "#c51b7d"
            ],
            [
             0.2,
             "#de77ae"
            ],
            [
             0.3,
             "#f1b6da"
            ],
            [
             0.4,
             "#fde0ef"
            ],
            [
             0.5,
             "#f7f7f7"
            ],
            [
             0.6,
             "#e6f5d0"
            ],
            [
             0.7,
             "#b8e186"
            ],
            [
             0.8,
             "#7fbc41"
            ],
            [
             0.9,
             "#4d9221"
            ],
            [
             1,
             "#276419"
            ]
           ],
           "sequential": [
            [
             0,
             "#0d0887"
            ],
            [
             0.1111111111111111,
             "#46039f"
            ],
            [
             0.2222222222222222,
             "#7201a8"
            ],
            [
             0.3333333333333333,
             "#9c179e"
            ],
            [
             0.4444444444444444,
             "#bd3786"
            ],
            [
             0.5555555555555556,
             "#d8576b"
            ],
            [
             0.6666666666666666,
             "#ed7953"
            ],
            [
             0.7777777777777778,
             "#fb9f3a"
            ],
            [
             0.8888888888888888,
             "#fdca26"
            ],
            [
             1,
             "#f0f921"
            ]
           ],
           "sequentialminus": [
            [
             0,
             "#0d0887"
            ],
            [
             0.1111111111111111,
             "#46039f"
            ],
            [
             0.2222222222222222,
             "#7201a8"
            ],
            [
             0.3333333333333333,
             "#9c179e"
            ],
            [
             0.4444444444444444,
             "#bd3786"
            ],
            [
             0.5555555555555556,
             "#d8576b"
            ],
            [
             0.6666666666666666,
             "#ed7953"
            ],
            [
             0.7777777777777778,
             "#fb9f3a"
            ],
            [
             0.8888888888888888,
             "#fdca26"
            ],
            [
             1,
             "#f0f921"
            ]
           ]
          },
          "colorway": [
           "#636efa",
           "#EF553B",
           "#00cc96",
           "#ab63fa",
           "#FFA15A",
           "#19d3f3",
           "#FF6692",
           "#B6E880",
           "#FF97FF",
           "#FECB52"
          ],
          "font": {
           "color": "#2a3f5f"
          },
          "geo": {
           "bgcolor": "white",
           "lakecolor": "white",
           "landcolor": "#E5ECF6",
           "showlakes": true,
           "showland": true,
           "subunitcolor": "white"
          },
          "hoverlabel": {
           "align": "left"
          },
          "hovermode": "closest",
          "mapbox": {
           "style": "light"
          },
          "paper_bgcolor": "white",
          "plot_bgcolor": "#E5ECF6",
          "polar": {
           "angularaxis": {
            "gridcolor": "white",
            "linecolor": "white",
            "ticks": ""
           },
           "bgcolor": "#E5ECF6",
           "radialaxis": {
            "gridcolor": "white",
            "linecolor": "white",
            "ticks": ""
           }
          },
          "scene": {
           "xaxis": {
            "backgroundcolor": "#E5ECF6",
            "gridcolor": "white",
            "gridwidth": 2,
            "linecolor": "white",
            "showbackground": true,
            "ticks": "",
            "zerolinecolor": "white"
           },
           "yaxis": {
            "backgroundcolor": "#E5ECF6",
            "gridcolor": "white",
            "gridwidth": 2,
            "linecolor": "white",
            "showbackground": true,
            "ticks": "",
            "zerolinecolor": "white"
           },
           "zaxis": {
            "backgroundcolor": "#E5ECF6",
            "gridcolor": "white",
            "gridwidth": 2,
            "linecolor": "white",
            "showbackground": true,
            "ticks": "",
            "zerolinecolor": "white"
           }
          },
          "shapedefaults": {
           "line": {
            "color": "#2a3f5f"
           }
          },
          "ternary": {
           "aaxis": {
            "gridcolor": "white",
            "linecolor": "white",
            "ticks": ""
           },
           "baxis": {
            "gridcolor": "white",
            "linecolor": "white",
            "ticks": ""
           },
           "bgcolor": "#E5ECF6",
           "caxis": {
            "gridcolor": "white",
            "linecolor": "white",
            "ticks": ""
           }
          },
          "title": {
           "x": 0.05
          },
          "xaxis": {
           "automargin": true,
           "gridcolor": "white",
           "linecolor": "white",
           "ticks": "",
           "title": {
            "standoff": 15
           },
           "zerolinecolor": "white",
           "zerolinewidth": 2
          },
          "yaxis": {
           "automargin": true,
           "gridcolor": "white",
           "linecolor": "white",
           "ticks": "",
           "title": {
            "standoff": 15
           },
           "zerolinecolor": "white",
           "zerolinewidth": 2
          }
         }
        },
        "xaxis": {
         "autorange": true,
         "range": [
          -0.7162403331350388,
          12.716240333135039
         ],
         "type": "linear"
        },
        "yaxis": {
         "autorange": true,
         "range": [
          1.9222615853096676,
          34.81868899910195
         ],
         "type": "linear"
        }
       }
      },
      "image/png": "[encoded data removed]",
      "text/html": [
       "<div>                            <div id=\"563f5f5f-cb6d-4637-b482-307bb2758bcd\" class=\"plotly-graph-div\" style=\"height:525px; width:100%;\"></div>            <script type=\"text/javascript\">                require([\"plotly\"], function(Plotly) {                    window.PLOTLYENV=window.PLOTLYENV || {};                                    if (document.getElementById(\"563f5f5f-cb6d-4637-b482-307bb2758bcd\")) {                    Plotly.newPlot(                        \"563f5f5f-cb6d-4637-b482-307bb2758bcd\",                        [{\"mode\":\"lines\",\"x\":[1,2,3,4,5,6,7,8,9,10,11],\"y\":[8.079219818115234,9.520625114440918,10.962030410766602,12.403435707092285,13.844841003417969,15.286246299743652,16.727651596069336,18.169055938720703,19.610462188720703,21.051868438720703,22.49327278137207],\"type\":\"scatter\"},{\"mode\":\"lines\",\"x\":[1,2,3,4,5,6,7,8,9,10,11],\"y\":[7.612719535827637,9.097190856933594,10.583568572998047,12.067195892333984,13.518855094909668,14.931619644165039,16.372480392456055,17.75788688659668,19.170774459838867,20.543853759765625,21.92481231689453],\"type\":\"scatter\"},{\"fill\":\"tonexty\",\"mode\":\"lines\",\"x\":[1,2,3,4,5,6,7,8,9,10,11],\"y\":[8.567317008972168,9.935897827148438,11.333797454833984,12.744766235351562,14.170787811279297,15.60185432434082,17.094369888305664,18.56191062927246,20.079965591430664,21.577659606933594,23.098466873168945],\"type\":\"scatter\"},{\"mode\":\"markers\",\"x\":[12.0,8.0,6.5,7.0,11.0,8.0,12.0,5.0,9.0,5.0,12.0,0.6000000238418579,12.0,6.0,9.0,5.0,12.0,11.0,6.0,12.0,9.0,7.599999904632568,1.0,5.0,8.0,6.0,3.0,12.0,8.0,5.0,12.0,7.0,3.0,11.0,6.0,4.0,9.0,7.0,6.0,7.0,4.0,4.0,6.0,5.0,9.0,8.0,11.0,10.0,11.0,8.0,5.0,5.0,12.0,8.0,5.0,5.0,8.899999618530273,3.0,1.0,1.0,3.0,6.0,5.0,5.0,1.0,2.0,2.0,1.0,12.0,2.0,9.0,6.0,7.0,5.0,6.0,1.0,1.0,2.0,1.0,3.0,1.0,1.0,1.0,3.0,3.0,1.0,1.0,12.0,1.0,1.0,3.0,1.0,3.0,3.0,8.0,3.0,12.0,7.0,4.0,1.0,1.0,8.0,0.0,0.0,0.0,11.0,2.0,11.0,8.0,5.0,1.0,6.0,1.0,0.0,0.0,12.0,0.0,0.0,0.0,7.0,3.0,10.0,3.0,4.0,2.0,10.0,3.0,6.0,11.0,3.0,8.0,12.0,3.0,4.0,0.0,0.0,5.0,8.0,3.0,12.0,5.0,6.0,7.0,1.0,1.0,0.0],\"y\":[19.61785316467285,13.947954177856445,10.489315032958984,15.989117622375488,17.860185623168945,20.411640167236328,23.359987258911133,13.267565727233887,15.422127723693848,12.757274627685547,29.596878051757812,12.927371978759766,27.584062576293945,17.46329116821289,18.824068069458008,17.888534545898438,27.44231605529785,17.123098373413086,16.499408721923828,18.257078170776367,15.081933975219727,11.481547355651855,9.752227783203125,13.097469329833984,19.39105796813965,15.081933975219727,11.708343505859375,21.99921226501465,19.78795051574707,16.78290367126465,21.17707633972168,18.899999618530273,13.267565727233887,22.367755889892578,12.757274627685547,13.012420654296875,24.408920288085938,21.517271041870117,13.125818252563477,18.342126846313477,13.749507904052734,12.530479431152344,17.576690673828125,14.401545524597168,19.05086326599121,20.80853271484375,17.661739349365234,20.496688842773438,20.89358139038086,15.989117622375488,14.288147926330566,15.223681449890137,21.488920211791992,16.669506072998047,12.076887130737305,15.337079048156738,17.83183479309082,11.453198432922363,11.765042304992676,5.896696090698242,12.105236053466797,18.313777923583984,11.368149757385254,16.2442626953125,6.803880214691162,11.878440856933594,14.968536376953125,9.865626335144043,28.859790802001953,12.785624504089355,20.581737518310547,15.875720024108887,17.06639862060547,13.182517051696777,12.927371978759766,5.669899940490723,11.509897232055664,11.708343505859375,7.540966987609863,12.700575828552246,7.200772762298584,12.360382080078125,7.796112537384033,12.558828353881836,12.700575828552246,7.370870113372803,9.213587760925293,20.014747619628906,8.504850387573242,8.306403160095215,11.623294830322266,7.966209411621094,10.801159858703613,14.004652976989746,18.143680572509766,10.914557456970215,27.15882110595703,19.05086326599121,13.834555625915527,9.213587760925293,7.569316387176514,19.41940689086914,7.314170837402344,7.824461936950684,8.022908210754395,22.792997360229492,9.383684158325195,28.292800903320312,20.35494041442871,13.295915603637695,6.662132263183594,16.272613525390625,8.504850387573242,8.136306762695312,7.200772762298584,32.488525390625,7.257472038269043,4.847764492034912,6.236889839172363,16.89630126953125,8.221355438232422,20.184843063354492,12.757274627685547,11.623294830322266,9.156888961791992,21.205425262451172,11.594945907592773,17.690088272094727,21.54561996459961,11.424848556518555,15.478827476501465,19.277660369873047,11.113003730773926,13.494361877441406,4.252425193786621,5.159608840942383,14.316497802734375,23.21824073791504,10.659412384033203,22.59455108642578,14.344846725463867,10.659412384033203,17.519990921020508,7.229122638702393,8.022908210754395,8.051258087158203],\"type\":\"scatter\"}],                        {\"template\":{\"data\":{\"histogram2dcontour\":[{\"type\":\"histogram2dcontour\",\"colorbar\":{\"outlinewidth\":0,\"ticks\":\"\"},\"colorscale\":[[0.0,\"#0d0887\"],[0.1111111111111111,\"#46039f\"],[0.2222222222222222,\"#7201a8\"],[0.3333333333333333,\"#9c179e\"],[0.4444444444444444,\"#bd3786\"],[0.5555555555555556,\"#d8576b\"],[0.6666666666666666,\"#ed7953\"],[0.7777777777777778,\"#fb9f3a\"],[0.8888888888888888,\"#fdca26\"],[1.0,\"#f0f921\"]]}],\"choropleth\":[{\"type\":\"choropleth\",\"colorbar\":{\"outlinewidth\":0,\"ticks\":\"\"}}],\"histogram2d\":[{\"type\":\"histogram2d\",\"colorbar\":{\"outlinewidth\":0,\"ticks\":\"\"},\"colorscale\":[[0.0,\"#0d0887\"],[0.1111111111111111,\"#46039f\"],[0.2222222222222222,\"#7201a8\"],[0.3333333333333333,\"#9c179e\"],[0.4444444444444444,\"#bd3786\"],[0.5555555555555556,\"#d8576b\"],[0.6666666666666666,\"#ed7953\"],[0.7777777777777778,\"#fb9f3a\"],[0.8888888888888888,\"#fdca26\"],[1.0,\"#f0f921\"]]}],\"heatmap\":[{\"type\":\"heatmap\",\"colorbar\":{\"outlinewidth\":0,\"ticks\":\"\"},\"colorscale\":[[0.0,\"#0d0887\"],[0.1111111111111111,\"#46039f\"],[0.2222222222222222,\"#7201a8\"],[0.3333333333333333,\"#9c179e\"],[0.4444444444444444,\"#bd3786\"],[0.5555555555555556,\"#d8576b\"],[0.6666666666666666,\"#ed7953\"],[0.7777777777777778,\"#fb9f3a\"],[0.8888888888888888,\"#fdca26\"],[1.0,\"#f0f921\"]]}],\"heatmapgl\":[{\"type\":\"heatmapgl\",\"colorbar\":{\"outlinewidth\":0,\"ticks\":\"\"},\"colorscale\":[[0.0,\"#0d0887\"],[0.1111111111111111,\"#46039f\"],[0.2222222222222222,\"#7201a8\"],[0.3333333333333333,\"#9c179e\"],[0.4444444444444444,\"#bd3786\"],[0.5555555555555556,\"#d8576b\"],[0.6666666666666666,\"#ed7953\"],[0.7777777777777778,\"#fb9f3a\"],[0.8888888888888888,\"#fdca26\"],[1.0,\"#f0f921\"]]}],\"contourcarpet\":[{\"type\":\"contourcarpet\",\"colorbar\":{\"outlinewidth\":0,\"ticks\":\"\"}}],\"contour\":[{\"type\":\"contour\",\"colorbar\":{\"outlinewidth\":0,\"ticks\":\"\"},\"colorscale\":[[0.0,\"#0d0887\"],[0.1111111111111111,\"#46039f\"],[0.2222222222222222,\"#7201a8\"],[0.3333333333333333,\"#9c179e\"],[0.4444444444444444,\"#bd3786\"],[0.5555555555555556,\"#d8576b\"],[0.6666666666666666,\"#ed7953\"],[0.7777777777777778,\"#fb9f3a\"],[0.8888888888888888,\"#fdca26\"],[1.0,\"#f0f921\"]]}],\"surface\":[{\"type\":\"surface\",\"colorbar\":{\"outlinewidth\":0,\"ticks\":\"\"},\"colorscale\":[[0.0,\"#0d0887\"],[0.1111111111111111,\"#46039f\"],[0.2222222222222222,\"#7201a8\"],[0.3333333333333333,\"#9c179e\"],[0.4444444444444444,\"#bd3786\"],[0.5555555555555556,\"#d8576b\"],[0.6666666666666666,\"#ed7953\"],[0.7777777777777778,\"#fb9f3a\"],[0.8888888888888888,\"#fdca26\"],[1.0,\"#f0f921\"]]}],\"mesh3d\":[{\"type\":\"mesh3d\",\"colorbar\":{\"outlinewidth\":0,\"ticks\":\"\"}}],\"scatter\":[{\"fillpattern\":{\"fillmode\":\"overlay\",\"size\":10,\"solidity\":0.2},\"type\":\"scatter\"}],\"parcoords\":[{\"type\":\"parcoords\",\"line\":{\"colorbar\":{\"outlinewidth\":0,\"ticks\":\"\"}}}],\"scatterpolargl\":[{\"type\":\"scatterpolargl\",\"marker\":{\"colorbar\":{\"outlinewidth\":0,\"ticks\":\"\"}}}],\"bar\":[{\"error_x\":{\"color\":\"#2a3f5f\"},\"error_y\":{\"color\":\"#2a3f5f\"},\"marker\":{\"line\":{\"color\":\"#E5ECF6\",\"width\":0.5},\"pattern\":{\"fillmode\":\"overlay\",\"size\":10,\"solidity\":0.2}},\"type\":\"bar\"}],\"scattergeo\":[{\"type\":\"scattergeo\",\"marker\":{\"colorbar\":{\"outlinewidth\":0,\"ticks\":\"\"}}}],\"scatterpolar\":[{\"type\":\"scatterpolar\",\"marker\":{\"colorbar\":{\"outlinewidth\":0,\"ticks\":\"\"}}}],\"histogram\":[{\"marker\":{\"pattern\":{\"fillmode\":\"overlay\",\"size\":10,\"solidity\":0.2}},\"type\":\"histogram\"}],\"scattergl\":[{\"type\":\"scattergl\",\"marker\":{\"colorbar\":{\"outlinewidth\":0,\"ticks\":\"\"}}}],\"scatter3d\":[{\"type\":\"scatter3d\",\"line\":{\"colorbar\":{\"outlinewidth\":0,\"ticks\":\"\"}},\"marker\":{\"colorbar\":{\"outlinewidth\":0,\"ticks\":\"\"}}}],\"scattermapbox\":[{\"type\":\"scattermapbox\",\"marker\":{\"colorbar\":{\"outlinewidth\":0,\"ticks\":\"\"}}}],\"scatterternary\":[{\"type\":\"scatterternary\",\"marker\":{\"colorbar\":{\"outlinewidth\":0,\"ticks\":\"\"}}}],\"scattercarpet\":[{\"type\":\"scattercarpet\",\"marker\":{\"colorbar\":{\"outlinewidth\":0,\"ticks\":\"\"}}}],\"carpet\":[{\"aaxis\":{\"endlinecolor\":\"#2a3f5f\",\"gridcolor\":\"white\",\"linecolor\":\"white\",\"minorgridcolor\":\"white\",\"startlinecolor\":\"#2a3f5f\"},\"baxis\":{\"endlinecolor\":\"#2a3f5f\",\"gridcolor\":\"white\",\"linecolor\":\"white\",\"minorgridcolor\":\"white\",\"startlinecolor\":\"#2a3f5f\"},\"type\":\"carpet\"}],\"table\":[{\"cells\":{\"fill\":{\"color\":\"#EBF0F8\"},\"line\":{\"color\":\"white\"}},\"header\":{\"fill\":{\"color\":\"#C8D4E3\"},\"line\":{\"color\":\"white\"}},\"type\":\"table\"}],\"barpolar\":[{\"marker\":{\"line\":{\"color\":\"#E5ECF6\",\"width\":0.5},\"pattern\":{\"fillmode\":\"overlay\",\"size\":10,\"solidity\":0.2}},\"type\":\"barpolar\"}],\"pie\":[{\"automargin\":true,\"type\":\"pie\"}]},\"layout\":{\"autotypenumbers\":\"strict\",\"colorway\":[\"#636efa\",\"#EF553B\",\"#00cc96\",\"#ab63fa\",\"#FFA15A\",\"#19d3f3\",\"#FF6692\",\"#B6E880\",\"#FF97FF\",\"#FECB52\"],\"font\":{\"color\":\"#2a3f5f\"},\"hovermode\":\"closest\",\"hoverlabel\":{\"align\":\"left\"},\"paper_bgcolor\":\"white\",\"plot_bgcolor\":\"#E5ECF6\",\"polar\":{\"bgcolor\":\"#E5ECF6\",\"angularaxis\":{\"gridcolor\":\"white\",\"linecolor\":\"white\",\"ticks\":\"\"},\"radialaxis\":{\"gridcolor\":\"white\",\"linecolor\":\"white\",\"ticks\":\"\"}},\"ternary\":{\"bgcolor\":\"#E5ECF6\",\"aaxis\":{\"gridcolor\":\"white\",\"linecolor\":\"white\",\"ticks\":\"\"},\"baxis\":{\"gridcolor\":\"white\",\"linecolor\":\"white\",\"ticks\":\"\"},\"caxis\":{\"gridcolor\":\"white\",\"linecolor\":\"white\",\"ticks\":\"\"}},\"coloraxis\":{\"colorbar\":{\"outlinewidth\":0,\"ticks\":\"\"}},\"colorscale\":{\"sequential\":[[0.0,\"#0d0887\"],[0.1111111111111111,\"#46039f\"],[0.2222222222222222,\"#7201a8\"],[0.3333333333333333,\"#9c179e\"],[0.4444444444444444,\"#bd3786\"],[0.5555555555555556,\"#d8576b\"],[0.6666666666666666,\"#ed7953\"],[0.7777777777777778,\"#fb9f3a\"],[0.8888888888888888,\"#fdca26\"],[1.0,\"#f0f921\"]],\"sequentialminus\":[[0.0,\"#0d0887\"],[0.1111111111111111,\"#46039f\"],[0.2222222222222222,\"#7201a8\"],[0.3333333333333333,\"#9c179e\"],[0.4444444444444444,\"#bd3786\"],[0.5555555555555556,\"#d8576b\"],[0.6666666666666666,\"#ed7953\"],[0.7777777777777778,\"#fb9f3a\"],[0.8888888888888888,\"#fdca26\"],[1.0,\"#f0f921\"]],\"diverging\":[[0,\"#8e0152\"],[0.1,\"#c51b7d\"],[0.2,\"#de77ae\"],[0.3,\"#f1b6da\"],[0.4,\"#fde0ef\"],[0.5,\"#f7f7f7\"],[0.6,\"#e6f5d0\"],[0.7,\"#b8e186\"],[0.8,\"#7fbc41\"],[0.9,\"#4d9221\"],[1,\"#276419\"]]},\"xaxis\":{\"gridcolor\":\"white\",\"linecolor\":\"white\",\"ticks\":\"\",\"title\":{\"standoff\":15},\"zerolinecolor\":\"white\",\"automargin\":true,\"zerolinewidth\":2},\"yaxis\":{\"gridcolor\":\"white\",\"linecolor\":\"white\",\"ticks\":\"\",\"title\":{\"standoff\":15},\"zerolinecolor\":\"white\",\"automargin\":true,\"zerolinewidth\":2},\"scene\":{\"xaxis\":{\"backgroundcolor\":\"#E5ECF6\",\"gridcolor\":\"white\",\"linecolor\":\"white\",\"showbackground\":true,\"ticks\":\"\",\"zerolinecolor\":\"white\",\"gridwidth\":2},\"yaxis\":{\"backgroundcolor\":\"#E5ECF6\",\"gridcolor\":\"white\",\"linecolor\":\"white\",\"showbackground\":true,\"ticks\":\"\",\"zerolinecolor\":\"white\",\"gridwidth\":2},\"zaxis\":{\"backgroundcolor\":\"#E5ECF6\",\"gridcolor\":\"white\",\"linecolor\":\"white\",\"showbackground\":true,\"ticks\":\"\",\"zerolinecolor\":\"white\",\"gridwidth\":2}},\"shapedefaults\":{\"line\":{\"color\":\"#2a3f5f\"}},\"annotationdefaults\":{\"arrowcolor\":\"#2a3f5f\",\"arrowhead\":0,\"arrowwidth\":1},\"geo\":{\"bgcolor\":\"white\",\"landcolor\":\"#E5ECF6\",\"subunitcolor\":\"white\",\"showland\":true,\"showlakes\":true,\"lakecolor\":\"white\"},\"title\":{\"x\":0.05},\"mapbox\":{\"style\":\"light\"}}}},                        {\"responsive\": true}                    ).then(function(){\n",
       "                            \n",
       "var gd = document.getElementById('563f5f5f-cb6d-4637-b482-307bb2758bcd');\n",
       "var x = new MutationObserver(function (mutations, observer) {{\n",
       "        var display = window.getComputedStyle(gd).display;\n",
       "        if (!display || display === 'none') {{\n",
       "            console.log([gd, 'removed!']);\n",
       "            Plotly.purge(gd);\n",
       "            observer.disconnect();\n",
       "        }}\n",
       "}});\n",
       "\n",
       "// Listen for the removal of the full notebook cells\n",
       "var notebookContainer = gd.closest('#notebook-container');\n",
       "if (notebookContainer) {{\n",
       "    x.observe(notebookContainer, {childList: true});\n",
       "}}\n",
       "\n",
       "// Listen for the clearing of the current output cell\n",
       "var outputEl = gd.closest('.output');\n",
       "if (outputEl) {{\n",
       "    x.observe(outputEl, {childList: true});\n",
       "}}\n",
       "\n",
       "                        })                };                });            </script>        </div>"
      ]
     },
     "metadata": {},
     "output_type": "display_data"
    }
   ],
   "source": [
    "fig = go.Figure([\n",
    "    go.Scatter(\n",
    "        x = ages,\n",
    "        y = weights_mu,\n",
    "        mode = 'lines'\n",
    "    ),\n",
    "    go.Scatter(\n",
    "        x = ages,\n",
    "        y = weights_mu_hdpi[:,0],\n",
    "        mode = 'lines'\n",
    "    ),\n",
    "    go.Scatter(\n",
    "        x = ages,\n",
    "        y = weights_mu_hdpi[:,1],\n",
    "        mode = 'lines',\n",
    "        fill='tonexty'\n",
    "    ),\n",
    "    go.Scatter(\n",
    "        x = ages_data,\n",
    "        y = weights_data,\n",
    "        mode = 'markers'\n",
    "    )\n",
    "])\n",
    "fig.show()"
   ]
  },
  {
   "cell_type": "code",
   "execution_count": 65,
   "id": "5665cfe8-1e26-45d7-8d5c-3a2c2eeb21df",
   "metadata": {},
   "outputs": [],
   "source": [
    "# Let's try building a full dag model and then find what the results would look line\n",
    "def full_causal_model(ages: jnp.ndarray = None, weights: jnp.ndarray = None , heights: jnp.ndarray = None):\n",
    "    '''\n",
    "    This will show a full causal model we have in mind\n",
    "    '''\n",
    "    ages_sigma = numpyro.sample('age_sigma', dist.Normal(10))\n",
    "    ages_mu = numpyro.sample('age_mu', dist.Normal(20))\n",
    "    ages_pred = numpyro.sample('age', dist.Normal(ages_mu, ages_sigma), obs = ages)\n",
    "    # heights\n",
    "    m_a_h = numpyro.sample('age_height_slope', dist.Normal(0.7))\n",
    "    b_a_h = numpyro.sample('age_height_intercept', dist.Normal(0.7))\n",
    "    ages_mu = jnp.mean(ages_pred)\n",
    "    heights_mu = b_a_h + m_a_h * (ages_pred - ages_mu)\n",
    "    heights_sigma = numpyro.sample('height_sigma', dist.Normal(10))\n",
    "    heights_pred = numpyro.sample('height', dist.Normal(heights_mu, heights_sigma), obs = heights)\n",
    "    # weights\n",
    "    m_w_a = numpyro.sample('weight_age_slope', dist.Normal(0.7))\n",
    "    b_w_a = numpyro.sample('weight_age_intercept', dist.Normal(0.7))\n",
    "    m_w_h = numpyro.sample('weight_height_slope', dist.Normal(0.7))\n",
    "    b_w_h = numpyro.sample('weight_height_intercept', dist.Normal(0.7))\n",
    "    weights_sigma = numpyro.sample('weight_sigma', dist.Normal(10))\n",
    "    weights_mu = b_w_a + b_w_h + m_w_a * (ages_pred - ages_mu) + m_w_h * (heights_pred - heights_mu)\n",
    "    weights = numpyro.sample('weight', dist.Normal(weights_mu, weights_sigma), obs = weights)\n",
    "    return"
   ]
  },
  {
   "cell_type": "code",
   "execution_count": 66,
   "id": "5a34940f-29f8-42b0-a403-f25f1171a94f",
   "metadata": {},
   "outputs": [
    {
     "data": {
      "image/svg+xml": [
       "<?xml version=\"1.0\" encoding=\"UTF-8\" standalone=\"no\"?>\n",
       "<!DOCTYPE svg PUBLIC \"-//W3C//DTD SVG 1.1//EN\"\n",
       " \"http://www.w3.org/Graphics/SVG/1.1/DTD/svg11.dtd\">\n",
       "<!-- Generated by graphviz version 6.0.1 (20220911.1526)\n",
       " -->\n",
       "<!-- Pages: 1 -->\n",
       "<svg width=\"1249pt\" height=\"260pt\"\n",
       " viewBox=\"0.00 0.00 1249.19 260.00\" xmlns=\"http://www.w3.org/2000/svg\" xmlns:xlink=\"http://www.w3.org/1999/xlink\">\n",
       "<g id=\"graph0\" class=\"graph\" transform=\"scale(1 1) rotate(0) translate(4 256)\">\n",
       "<polygon fill=\"white\" stroke=\"none\" points=\"-4,4 -4,-256 1245.19,-256 1245.19,4 -4,4\"/>\n",
       "<!-- age_sigma -->\n",
       "<g id=\"node1\" class=\"node\">\n",
       "<title>age_sigma</title>\n",
       "<ellipse fill=\"white\" stroke=\"black\" cx=\"48.75\" cy=\"-234\" rx=\"48.99\" ry=\"18\"/>\n",
       "<text text-anchor=\"middle\" x=\"48.75\" y=\"-230.3\" font-family=\"Times,serif\" font-size=\"14.00\">age_sigma</text>\n",
       "</g>\n",
       "<!-- age -->\n",
       "<g id=\"node3\" class=\"node\">\n",
       "<title>age</title>\n",
       "<ellipse fill=\"white\" stroke=\"black\" cx=\"101.75\" cy=\"-162\" rx=\"27\" ry=\"18\"/>\n",
       "<text text-anchor=\"middle\" x=\"101.75\" y=\"-158.3\" font-family=\"Times,serif\" font-size=\"14.00\">age</text>\n",
       "</g>\n",
       "<!-- age_sigma&#45;&gt;age -->\n",
       "<g id=\"edge1\" class=\"edge\">\n",
       "<title>age_sigma&#45;&gt;age</title>\n",
       "<path fill=\"none\" stroke=\"black\" d=\"M61.31,-216.41C68.03,-207.53 76.43,-196.44 83.83,-186.67\"/>\n",
       "<polygon fill=\"black\" stroke=\"black\" points=\"86.76,-188.6 90,-178.51 81.17,-184.37 86.76,-188.6\"/>\n",
       "</g>\n",
       "<!-- age_mu -->\n",
       "<g id=\"node2\" class=\"node\">\n",
       "<title>age_mu</title>\n",
       "<ellipse fill=\"white\" stroke=\"black\" cx=\"154.75\" cy=\"-234\" rx=\"38.99\" ry=\"18\"/>\n",
       "<text text-anchor=\"middle\" x=\"154.75\" y=\"-230.3\" font-family=\"Times,serif\" font-size=\"14.00\">age_mu</text>\n",
       "</g>\n",
       "<!-- age_mu&#45;&gt;age -->\n",
       "<g id=\"edge2\" class=\"edge\">\n",
       "<title>age_mu&#45;&gt;age</title>\n",
       "<path fill=\"none\" stroke=\"black\" d=\"M142.45,-216.76C135.74,-207.89 127.29,-196.74 119.84,-186.89\"/>\n",
       "<polygon fill=\"black\" stroke=\"black\" points=\"122.43,-184.53 113.61,-178.67 116.85,-188.75 122.43,-184.53\"/>\n",
       "</g>\n",
       "<!-- height -->\n",
       "<g id=\"node7\" class=\"node\">\n",
       "<title>height</title>\n",
       "<ellipse fill=\"white\" stroke=\"black\" cx=\"278.75\" cy=\"-90\" rx=\"32.49\" ry=\"18\"/>\n",
       "<text text-anchor=\"middle\" x=\"278.75\" y=\"-86.3\" font-family=\"Times,serif\" font-size=\"14.00\">height</text>\n",
       "</g>\n",
       "<!-- age&#45;&gt;height -->\n",
       "<g id=\"edge3\" class=\"edge\">\n",
       "<title>age&#45;&gt;height</title>\n",
       "<path fill=\"none\" stroke=\"black\" d=\"M122.94,-150.64C127.77,-148.38 132.91,-146.05 137.75,-144 172.86,-129.14 213.72,-114.01 242.38,-103.74\"/>\n",
       "<polygon fill=\"black\" stroke=\"black\" points=\"243.74,-106.98 251.98,-100.32 241.39,-100.38 243.74,-106.98\"/>\n",
       "</g>\n",
       "<!-- weight -->\n",
       "<g id=\"node13\" class=\"node\">\n",
       "<title>weight</title>\n",
       "<ellipse fill=\"white\" stroke=\"black\" cx=\"440.75\" cy=\"-18\" rx=\"34.39\" ry=\"18\"/>\n",
       "<text text-anchor=\"middle\" x=\"440.75\" y=\"-14.3\" font-family=\"Times,serif\" font-size=\"14.00\">weight</text>\n",
       "</g>\n",
       "<!-- age&#45;&gt;weight -->\n",
       "<g id=\"edge7\" class=\"edge\">\n",
       "<title>age&#45;&gt;weight</title>\n",
       "<path fill=\"none\" stroke=\"black\" d=\"M115.97,-146.64C136.44,-126.83 176.19,-91.36 216.75,-72 275.59,-43.9 350.41,-30.09 396.95,-23.77\"/>\n",
       "<polygon fill=\"black\" stroke=\"black\" points=\"397.54,-27.22 407,-22.46 396.63,-20.28 397.54,-27.22\"/>\n",
       "</g>\n",
       "<!-- age_height_slope -->\n",
       "<g id=\"node4\" class=\"node\">\n",
       "<title>age_height_slope</title>\n",
       "<ellipse fill=\"white\" stroke=\"black\" cx=\"218.75\" cy=\"-162\" rx=\"72.29\" ry=\"18\"/>\n",
       "<text text-anchor=\"middle\" x=\"218.75\" y=\"-158.3\" font-family=\"Times,serif\" font-size=\"14.00\">age_height_slope</text>\n",
       "</g>\n",
       "<!-- age_height_slope&#45;&gt;height -->\n",
       "<g id=\"edge4\" class=\"edge\">\n",
       "<title>age_height_slope&#45;&gt;height</title>\n",
       "<path fill=\"none\" stroke=\"black\" d=\"M233.27,-144.05C240.86,-135.2 250.26,-124.23 258.55,-114.57\"/>\n",
       "<polygon fill=\"black\" stroke=\"black\" points=\"261.33,-116.7 265.18,-106.83 256.01,-112.14 261.33,-116.7\"/>\n",
       "</g>\n",
       "<!-- age_height_slope&#45;&gt;weight -->\n",
       "<g id=\"edge8\" class=\"edge\">\n",
       "<title>age_height_slope&#45;&gt;weight</title>\n",
       "<path fill=\"none\" stroke=\"black\" d=\"M217.44,-143.84C216.92,-123.91 219.3,-91.3 237.75,-72 259.51,-49.23 344.54,-33.03 397.4,-24.92\"/>\n",
       "<polygon fill=\"black\" stroke=\"black\" points=\"398.15,-28.35 407.52,-23.41 397.11,-21.43 398.15,-28.35\"/>\n",
       "</g>\n",
       "<!-- age_height_intercept -->\n",
       "<g id=\"node5\" class=\"node\">\n",
       "<title>age_height_intercept</title>\n",
       "<ellipse fill=\"white\" stroke=\"black\" cx=\"528.75\" cy=\"-162\" rx=\"84.49\" ry=\"18\"/>\n",
       "<text text-anchor=\"middle\" x=\"528.75\" y=\"-158.3\" font-family=\"Times,serif\" font-size=\"14.00\">age_height_intercept</text>\n",
       "</g>\n",
       "<!-- age_height_intercept&#45;&gt;height -->\n",
       "<g id=\"edge5\" class=\"edge\">\n",
       "<title>age_height_intercept&#45;&gt;height</title>\n",
       "<path fill=\"none\" stroke=\"black\" d=\"M473.78,-148.3C432.47,-138.37 374.67,-123.67 324.75,-108 321.39,-106.95 317.93,-105.79 314.47,-104.6\"/>\n",
       "<polygon fill=\"black\" stroke=\"black\" points=\"315.46,-101.23 304.86,-101.17 313.1,-107.82 315.46,-101.23\"/>\n",
       "</g>\n",
       "<!-- age_height_intercept&#45;&gt;weight -->\n",
       "<g id=\"edge9\" class=\"edge\">\n",
       "<title>age_height_intercept&#45;&gt;weight</title>\n",
       "<path fill=\"none\" stroke=\"black\" d=\"M466.37,-149.69C423.1,-140.43 370.98,-125.95 357.75,-108 348.25,-95.12 350.06,-86.03 357.75,-72 367.52,-54.16 386.13,-41.46 403.26,-32.97\"/>\n",
       "<polygon fill=\"black\" stroke=\"black\" points=\"404.94,-36.05 412.56,-28.68 402.01,-29.69 404.94,-36.05\"/>\n",
       "</g>\n",
       "<!-- height_sigma -->\n",
       "<g id=\"node6\" class=\"node\">\n",
       "<title>height_sigma</title>\n",
       "<ellipse fill=\"white\" stroke=\"black\" cx=\"367.75\" cy=\"-162\" rx=\"58.49\" ry=\"18\"/>\n",
       "<text text-anchor=\"middle\" x=\"367.75\" y=\"-158.3\" font-family=\"Times,serif\" font-size=\"14.00\">height_sigma</text>\n",
       "</g>\n",
       "<!-- height_sigma&#45;&gt;height -->\n",
       "<g id=\"edge6\" class=\"edge\">\n",
       "<title>height_sigma&#45;&gt;height</title>\n",
       "<path fill=\"none\" stroke=\"black\" d=\"M347.1,-144.76C334.52,-134.86 318.31,-122.12 304.84,-111.52\"/>\n",
       "<polygon fill=\"black\" stroke=\"black\" points=\"306.89,-108.68 296.86,-105.25 302.56,-114.18 306.89,-108.68\"/>\n",
       "</g>\n",
       "<!-- height&#45;&gt;weight -->\n",
       "<g id=\"edge10\" class=\"edge\">\n",
       "<title>height&#45;&gt;weight</title>\n",
       "<path fill=\"none\" stroke=\"black\" d=\"M303.7,-78.22C330.93,-66.45 374.74,-47.52 405.47,-34.24\"/>\n",
       "<polygon fill=\"black\" stroke=\"black\" points=\"407.16,-37.32 414.96,-30.14 404.39,-30.9 407.16,-37.32\"/>\n",
       "</g>\n",
       "<!-- weight_age_slope -->\n",
       "<g id=\"node8\" class=\"node\">\n",
       "<title>weight_age_slope</title>\n",
       "<ellipse fill=\"white\" stroke=\"black\" cx=\"440.75\" cy=\"-90\" rx=\"74.19\" ry=\"18\"/>\n",
       "<text text-anchor=\"middle\" x=\"440.75\" y=\"-86.3\" font-family=\"Times,serif\" font-size=\"14.00\">weight_age_slope</text>\n",
       "</g>\n",
       "<!-- weight_age_slope&#45;&gt;weight -->\n",
       "<g id=\"edge11\" class=\"edge\">\n",
       "<title>weight_age_slope&#45;&gt;weight</title>\n",
       "<path fill=\"none\" stroke=\"black\" d=\"M440.75,-71.7C440.75,-63.98 440.75,-54.71 440.75,-46.11\"/>\n",
       "<polygon fill=\"black\" stroke=\"black\" points=\"444.25,-46.1 440.75,-36.1 437.25,-46.1 444.25,-46.1\"/>\n",
       "</g>\n",
       "<!-- weight_age_intercept -->\n",
       "<g id=\"node9\" class=\"node\">\n",
       "<title>weight_age_intercept</title>\n",
       "<ellipse fill=\"white\" stroke=\"black\" cx=\"619.75\" cy=\"-90\" rx=\"86.38\" ry=\"18\"/>\n",
       "<text text-anchor=\"middle\" x=\"619.75\" y=\"-86.3\" font-family=\"Times,serif\" font-size=\"14.00\">weight_age_intercept</text>\n",
       "</g>\n",
       "<!-- weight_age_intercept&#45;&gt;weight -->\n",
       "<g id=\"edge12\" class=\"edge\">\n",
       "<title>weight_age_intercept&#45;&gt;weight</title>\n",
       "<path fill=\"none\" stroke=\"black\" d=\"M580.91,-73.81C550.01,-61.73 507.1,-44.95 476.93,-33.15\"/>\n",
       "<polygon fill=\"black\" stroke=\"black\" points=\"478.19,-29.89 467.61,-29.5 475.64,-36.41 478.19,-29.89\"/>\n",
       "</g>\n",
       "<!-- weight_height_slope -->\n",
       "<g id=\"node10\" class=\"node\">\n",
       "<title>weight_height_slope</title>\n",
       "<ellipse fill=\"white\" stroke=\"black\" cx=\"807.75\" cy=\"-90\" rx=\"83.69\" ry=\"18\"/>\n",
       "<text text-anchor=\"middle\" x=\"807.75\" y=\"-86.3\" font-family=\"Times,serif\" font-size=\"14.00\">weight_height_slope</text>\n",
       "</g>\n",
       "<!-- weight_height_slope&#45;&gt;weight -->\n",
       "<g id=\"edge13\" class=\"edge\">\n",
       "<title>weight_height_slope&#45;&gt;weight</title>\n",
       "<path fill=\"none\" stroke=\"black\" d=\"M747.14,-77.44C672.35,-63.18 547.16,-39.3 482.39,-26.94\"/>\n",
       "<polygon fill=\"black\" stroke=\"black\" points=\"483.01,-23.5 472.53,-25.06 481.69,-30.37 483.01,-23.5\"/>\n",
       "</g>\n",
       "<!-- weight_height_intercept -->\n",
       "<g id=\"node11\" class=\"node\">\n",
       "<title>weight_height_intercept</title>\n",
       "<ellipse fill=\"white\" stroke=\"black\" cx=\"1005.75\" cy=\"-90\" rx=\"96.38\" ry=\"18\"/>\n",
       "<text text-anchor=\"middle\" x=\"1005.75\" y=\"-86.3\" font-family=\"Times,serif\" font-size=\"14.00\">weight_height_intercept</text>\n",
       "</g>\n",
       "<!-- weight_height_intercept&#45;&gt;weight -->\n",
       "<g id=\"edge14\" class=\"edge\">\n",
       "<title>weight_height_intercept&#45;&gt;weight</title>\n",
       "<path fill=\"none\" stroke=\"black\" d=\"M936.91,-77.39C924.87,-75.49 912.45,-73.62 900.75,-72 748.17,-50.87 566.31,-31.68 484.46,-23.36\"/>\n",
       "<polygon fill=\"black\" stroke=\"black\" points=\"484.59,-19.86 474.29,-22.33 483.88,-26.82 484.59,-19.86\"/>\n",
       "</g>\n",
       "<!-- weight_sigma -->\n",
       "<g id=\"node12\" class=\"node\">\n",
       "<title>weight_sigma</title>\n",
       "<ellipse fill=\"white\" stroke=\"black\" cx=\"1180.75\" cy=\"-90\" rx=\"60.39\" ry=\"18\"/>\n",
       "<text text-anchor=\"middle\" x=\"1180.75\" y=\"-86.3\" font-family=\"Times,serif\" font-size=\"14.00\">weight_sigma</text>\n",
       "</g>\n",
       "<!-- weight_sigma&#45;&gt;weight -->\n",
       "<g id=\"edge15\" class=\"edge\">\n",
       "<title>weight_sigma&#45;&gt;weight</title>\n",
       "<path fill=\"none\" stroke=\"black\" d=\"M1137.27,-77.31C1128.54,-75.28 1119.39,-73.38 1110.75,-72 877.14,-34.64 593.31,-23.21 485.33,-20.08\"/>\n",
       "<polygon fill=\"black\" stroke=\"black\" points=\"485.23,-16.57 475.14,-19.79 485.04,-23.57 485.23,-16.57\"/>\n",
       "</g>\n",
       "</g>\n",
       "</svg>\n"
      ],
      "text/plain": [
       "<graphviz.graphs.Digraph at 0x16d98c6a0>"
      ]
     },
     "execution_count": 66,
     "metadata": {},
     "output_type": "execute_result"
    }
   ],
   "source": [
    "numpyro.render_model(full_causal_model, ())"
   ]
  },
  {
   "cell_type": "code",
   "execution_count": 68,
   "id": "92790356-23ea-4eaf-8c3f-9c085f3d77f6",
   "metadata": {},
   "outputs": [],
   "source": [
    "weights_data = jnp.array(howell_df_u13['weight'])\n",
    "ages_data = jnp.array(howell_df_u13['age'])\n",
    "heights_data = jnp.array(howell_df_u13['height'])"
   ]
  },
  {
   "cell_type": "code",
   "execution_count": 75,
   "id": "2e4ecb31-0b60-4dc9-a0bb-0d404a1f8bc0",
   "metadata": {},
   "outputs": [
    {
     "name": "stderr",
     "output_type": "stream",
     "text": [
      "sample: 100%|██████████████████████████████████████████████████████████████| 5500/5500 [00:05<00:00, 1041.16it/s, 63 steps of size 8.73e-02. acc. prob=0.93]\n"
     ]
    }
   ],
   "source": [
    "from numpyro.infer import MCMC, NUTS\n",
    "nuts_kernel = NUTS(full_causal_model)\n",
    "mcmc = MCMC(nuts_kernel, num_warmup=500, num_samples=5000)\n",
    "rng_key = jax.random.PRNGKey(0)\n",
    "mcmc.run(rng_key, ages_data, weights_data, heights_data, extra_fields=('potential_energy',))"
   ]
  },
  {
   "cell_type": "code",
   "execution_count": 76,
   "id": "80d57a5e-0af6-4e4c-a9f9-87fd4bc0f80a",
   "metadata": {},
   "outputs": [
    {
     "name": "stdout",
     "output_type": "stream",
     "text": [
      "\n",
      "                               mean       std    median      5.0%     95.0%     n_eff     r_hat\n",
      "     age_height_intercept     12.03      1.00     12.04     10.35     13.61   4844.75      1.00\n",
      "         age_height_slope      3.56      0.60      3.57      2.59      4.56   3153.14      1.00\n",
      "                   age_mu      7.39      0.47      7.36      6.67      8.18   3474.54      1.00\n",
      "                age_sigma      4.79      0.39      4.76      4.13      5.40   3546.09      1.00\n",
      "             height_sigma     34.04      0.56     34.05     33.08     34.91   4796.42      1.00\n",
      "     weight_age_intercept     -1.26      0.88     -1.27     -2.63      0.22   4091.70      1.00\n",
      "         weight_age_slope      1.02      0.13      1.03      0.82      1.24   3050.99      1.00\n",
      "  weight_height_intercept     -1.24      0.87     -1.24     -2.64      0.20   3169.29      1.00\n",
      "      weight_height_slope      0.20      0.01      0.20      0.18      0.22   3175.12      1.00\n",
      "             weight_sigma      1.63      0.11      1.62      1.45      1.81   3774.98      1.00\n",
      "\n",
      "Number of divergences: 0\n"
     ]
    }
   ],
   "source": [
    "mcmc.print_summary()"
   ]
  },
  {
   "cell_type": "code",
   "execution_count": null,
   "id": "af2ef0a4-d991-49cc-9b0f-531ca3e62e49",
   "metadata": {},
   "outputs": [],
   "source": []
  }
 ],
 "metadata": {
  "kernelspec": {
   "display_name": "Python 3 (ipykernel)",
   "language": "python",
   "name": "python3"
  },
  "language_info": {
   "codemirror_mode": {
    "name": "ipython",
    "version": 3
   },
   "file_extension": ".py",
   "mimetype": "text/x-python",
   "name": "python",
   "nbconvert_exporter": "python",
   "pygments_lexer": "ipython3",
   "version": "3.10.4"
  }
 },
 "nbformat": 4,
 "nbformat_minor": 5
}
